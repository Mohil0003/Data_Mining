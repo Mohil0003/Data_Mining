{
 "cells": [
  {
   "cell_type": "markdown",
   "id": "bd404775-7b3e-40e4-b6dd-b401b53b1ecc",
   "metadata": {},
   "source": [
    "<a href='https://www.darshan.ac.in/'> <img src='https://www.darshan.ac.in/Content/media/DU_Logo.svg' width=\"250\" height=\"300\"/></a>\n",
    "<pre>\n",
    "<center><b><h1>Data Mining</b></center>\n",
    "<center><b><h1>Task - 6</b></center>  \n",
    "<center><b><h1>\n",
    "</b></center>    \n",
    "\n",
    "<pre>"
   ]
  },
  {
   "cell_type": "markdown",
   "id": "f104d9e9-f8a7-490b-951a-f0711ce71367",
   "metadata": {},
   "source": [
    "# Implement K- Means without Library\n"
   ]
  },
  {
   "cell_type": "code",
   "execution_count": 45,
   "id": "ed153b7f-aa51-478b-b89b-38d0ef73b945",
   "metadata": {},
   "outputs": [],
   "source": [
    "import math\n",
    "import pandas as pd\n",
    "import random"
   ]
  },
  {
   "cell_type": "code",
   "execution_count": 47,
   "id": "8966081c-e815-4c47-b54c-dc5803665ade",
   "metadata": {},
   "outputs": [],
   "source": [
    "# Load the dataset\n",
    "df = pd.read_csv('BankChurners.csv')\n",
    "\n",
    "# Select relevant columns for clustering\n",
    "data = df[['Credit_Limit', 'Total_Trans_Amt']].values.tolist()"
   ]
  },
  {
   "cell_type": "code",
   "execution_count": 49,
   "id": "a5775926-735d-42d7-ba35-73ac395a3899",
   "metadata": {},
   "outputs": [],
   "source": [
    "def distance(p1, p2):\n",
    "    \"\"\"Calculates the Euclidean distance between two points.\"\"\"\n",
    "    return math.sqrt((p1[0] - p2[0])**2 + (p1[1] - p2[1])**2)"
   ]
  },
  {
   "cell_type": "code",
   "execution_count": 51,
   "id": "43cbeda6-496e-4db6-a469-d3f5afe93985",
   "metadata": {},
   "outputs": [],
   "source": [
    "def assign_to_clusters(data, centroids):\n",
    "    \"\"\"Assigns each data point to the closest centroid.\"\"\"\n",
    "    clusters = {i: [] for i in range(len(centroids))}\n",
    "    for point in data:\n",
    "        closest_centroid_index = min(range(len(centroids)), key=lambda i: distance(point, centroids[i]))\n",
    "        clusters[closest_centroid_index].append(point)\n",
    "    return clusters\n",
    "\n",
    "def update_centroids(clusters):\n",
    "    \"\"\"Updates the centroids based on the mean of the clusters.\"\"\"\n",
    "    new_centroids = []\n",
    "    for i in sorted(clusters.keys()):\n",
    "        points = clusters[i]\n",
    "        if points:\n",
    "            new_centroid = [sum(dim) / len(points) for dim in zip(*points)]\n",
    "            new_centroids.append(new_centroid)\n",
    "    return new_centroids"
   ]
  },
  {
   "cell_type": "markdown",
   "id": "d40d3c90-3a3a-400f-8e87-ce548baf8d75",
   "metadata": {},
   "source": [
    "# Now Implement code"
   ]
  },
  {
   "cell_type": "code",
   "execution_count": 53,
   "id": "a6e2cb04-39d0-4389-94bc-d140e3440cac",
   "metadata": {},
   "outputs": [
    {
     "name": "stdout",
     "output_type": "stream",
     "text": [
      "Final Centroids:\n",
      "Centroid 1: [30869.527544351073, 5660.27264239029]\n",
      "Centroid 2: [13961.776585365853, 5090.052682926829]\n",
      "Centroid 3: [3672.978746788467, 4011.336283185841]\n",
      "\\nClusters:\n",
      "Cluster 1:\n",
      "  [34516.0, 1330.0]\n",
      "  [29081.0, 1538.0]\n",
      "  [30367.0, 1671.0]\n",
      "  [32426.0, 1109.0]\n",
      "  [34516.0, 1444.0]\n",
      "  ... and 1066 more points\n",
      "Cluster 2:\n",
      "  [12691.0, 1144.0]\n",
      "  [22352.0, 1350.0]\n",
      "  [11656.0, 1441.0]\n",
      "  [11751.0, 1539.0]\n",
      "  [13535.0, 1028.0]\n",
      "  ... and 2045 more points\n",
      "Cluster 3:\n",
      "  [8256.0, 1291.0]\n",
      "  [3418.0, 1887.0]\n",
      "  [3313.0, 1171.0]\n",
      "  [4716.0, 816.0]\n",
      "  [4010.0, 1088.0]\n",
      "  ... and 7001 more points\n"
     ]
    }
   ],
   "source": [
    "def kmeans(data, k, max_iterations=100):\n",
    "    \"\"\"\n",
    "    Performs the K-Means clustering algorithm.\n",
    "    \"\"\"\n",
    "    # 1. Initialize centroids randomly\n",
    "    centroids = random.sample(data, k)\n",
    "\n",
    "    for _ in range(max_iterations):\n",
    "        # 2. Assign points to clusters\n",
    "        clusters = assign_to_clusters(data, centroids)\n",
    "        # 3. Update centroids\n",
    "        new_centroids = update_centroids(clusters)\n",
    "        # 4. Check for convergence\n",
    "        if new_centroids == centroids:\n",
    "            break\n",
    "        centroids = new_centroids\n",
    "\n",
    "    return centroids, clusters\n",
    "\n",
    "# --- Main Execution ---\n",
    "k = 3 # Number of clusters\n",
    "final_centroids, final_clusters = kmeans(data, k)\n",
    "\n",
    "# --- Output the results ---\n",
    "print(\"Final Centroids:\")\n",
    "for i, centroid in enumerate(final_centroids):\n",
    "    print(f\"Centroid {i+1}: {centroid}\")\n",
    "\n",
    "print(\"\\\\nClusters:\")\n",
    "for i, points in final_clusters.items():\n",
    "    print(f\"Cluster {i+1}:\")\n",
    "    # Print first 5 points of each cluster for brevity\n",
    "    for point in points[:5]:\n",
    "        print(f\"  {point}\")\n",
    "    if len(points) > 5:\n",
    "        print(f\"  ... and {len(points) - 5} more points\")"
   ]
  }
 ],
 "metadata": {
  "kernelspec": {
   "display_name": "Python 3 (ipykernel)",
   "language": "python",
   "name": "python3"
  },
  "language_info": {
   "codemirror_mode": {
    "name": "ipython",
    "version": 3
   },
   "file_extension": ".py",
   "mimetype": "text/x-python",
   "name": "python",
   "nbconvert_exporter": "python",
   "pygments_lexer": "ipython3",
   "version": "3.12.7"
  }
 },
 "nbformat": 4,
 "nbformat_minor": 5
}
